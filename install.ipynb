{
 "cells": [
  {
   "cell_type": "code",
   "execution_count": 1,
   "metadata": {},
   "outputs": [
    {
     "name": "stdout",
     "output_type": "stream",
     "text": [
      "Defaulting to user installation because normal site-packages is not writeable\n",
      "Collecting azure-cognitiveservices-vision-computervision\n",
      "  Using cached azure_cognitiveservices_vision_computervision-0.9.0-py2.py3-none-any.whl (39 kB)\n",
      "Requirement already satisfied: msrest>=0.5.0 in c:\\users\\ambar\\appdata\\roaming\\python\\python39\\site-packages (from azure-cognitiveservices-vision-computervision) (0.7.1)\n",
      "Requirement already satisfied: azure-common~=1.1 in c:\\users\\ambar\\appdata\\roaming\\python\\python39\\site-packages (from azure-cognitiveservices-vision-computervision) (1.1.28)\n",
      "Requirement already satisfied: requests-oauthlib>=0.5.0 in c:\\users\\ambar\\appdata\\roaming\\python\\python39\\site-packages (from msrest>=0.5.0->azure-cognitiveservices-vision-computervision) (1.3.1)\n",
      "Requirement already satisfied: azure-core>=1.24.0 in c:\\users\\ambar\\appdata\\roaming\\python\\python39\\site-packages (from msrest>=0.5.0->azure-cognitiveservices-vision-computervision) (1.26.1)\n",
      "Requirement already satisfied: requests~=2.16 in c:\\applications\\anaconda\\lib\\site-packages (from msrest>=0.5.0->azure-cognitiveservices-vision-computervision) (2.28.1)\n",
      "Requirement already satisfied: isodate>=0.6.0 in c:\\users\\ambar\\appdata\\roaming\\python\\python39\\site-packages (from msrest>=0.5.0->azure-cognitiveservices-vision-computervision) (0.6.1)\n",
      "Requirement already satisfied: certifi>=2017.4.17 in c:\\users\\ambar\\appdata\\roaming\\python\\python39\\site-packages (from msrest>=0.5.0->azure-cognitiveservices-vision-computervision) (2022.12.7)\n",
      "Requirement already satisfied: typing-extensions>=4.0.1 in c:\\applications\\anaconda\\lib\\site-packages (from azure-core>=1.24.0->msrest>=0.5.0->azure-cognitiveservices-vision-computervision) (4.3.0)\n",
      "Requirement already satisfied: six>=1.11.0 in c:\\users\\ambar\\appdata\\roaming\\python\\python39\\site-packages (from azure-core>=1.24.0->msrest>=0.5.0->azure-cognitiveservices-vision-computervision) (1.16.0)\n",
      "Requirement already satisfied: idna<4,>=2.5 in c:\\applications\\anaconda\\lib\\site-packages (from requests~=2.16->msrest>=0.5.0->azure-cognitiveservices-vision-computervision) (3.3)\n",
      "Requirement already satisfied: charset-normalizer<3,>=2 in c:\\applications\\anaconda\\lib\\site-packages (from requests~=2.16->msrest>=0.5.0->azure-cognitiveservices-vision-computervision) (2.0.4)\n",
      "Requirement already satisfied: urllib3<1.27,>=1.21.1 in c:\\users\\ambar\\appdata\\roaming\\python\\python39\\site-packages (from requests~=2.16->msrest>=0.5.0->azure-cognitiveservices-vision-computervision) (1.26.16)\n",
      "Requirement already satisfied: oauthlib>=3.0.0 in c:\\users\\ambar\\appdata\\roaming\\python\\python39\\site-packages (from requests-oauthlib>=0.5.0->msrest>=0.5.0->azure-cognitiveservices-vision-computervision) (3.2.2)\n",
      "Installing collected packages: azure-cognitiveservices-vision-computervision\n",
      "Successfully installed azure-cognitiveservices-vision-computervision-0.9.0\n",
      "Note: you may need to restart the kernel to use updated packages.\n"
     ]
    }
   ],
   "source": [
    "pip install --upgrade azure-cognitiveservices-vision-computervision"
   ]
  },
  {
   "cell_type": "code",
   "execution_count": 5,
   "metadata": {},
   "outputs": [
    {
     "name": "stdout",
     "output_type": "stream",
     "text": [
      "Defaulting to user installation because normal site-packages is not writeable\n",
      "Requirement already satisfied: azure-identity in c:\\users\\ambar\\appdata\\roaming\\python\\python39\\site-packages (1.13.0)\n",
      "Requirement already satisfied: msal<2.0.0,>=1.20.0 in c:\\users\\ambar\\appdata\\roaming\\python\\python39\\site-packages (from azure-identity) (1.20.0)\n",
      "Requirement already satisfied: six>=1.12.0 in c:\\users\\ambar\\appdata\\roaming\\python\\python39\\site-packages (from azure-identity) (1.16.0)\n",
      "Requirement already satisfied: azure-core<2.0.0,>=1.11.0 in c:\\users\\ambar\\appdata\\roaming\\python\\python39\\site-packages (from azure-identity) (1.26.1)\n",
      "Requirement already satisfied: cryptography>=2.5 in c:\\applications\\anaconda\\lib\\site-packages (from azure-identity) (37.0.1)\n",
      "Requirement already satisfied: msal-extensions<2.0.0,>=0.3.0 in c:\\users\\ambar\\appdata\\roaming\\python\\python39\\site-packages (from azure-identity) (1.0.0)\n",
      "Requirement already satisfied: typing-extensions>=4.0.1 in c:\\applications\\anaconda\\lib\\site-packages (from azure-core<2.0.0,>=1.11.0->azure-identity) (4.3.0)\n",
      "Requirement already satisfied: requests>=2.18.4 in c:\\applications\\anaconda\\lib\\site-packages (from azure-core<2.0.0,>=1.11.0->azure-identity) (2.28.1)\n",
      "Requirement already satisfied: cffi>=1.12 in c:\\applications\\anaconda\\lib\\site-packages (from cryptography>=2.5->azure-identity) (1.15.1)\n",
      "Requirement already satisfied: PyJWT[crypto]<3,>=1.0.0 in c:\\applications\\anaconda\\lib\\site-packages (from msal<2.0.0,>=1.20.0->azure-identity) (2.4.0)\n",
      "Requirement already satisfied: portalocker<3,>=1.6 in c:\\users\\ambar\\appdata\\roaming\\python\\python39\\site-packages (from msal-extensions<2.0.0,>=0.3.0->azure-identity) (2.6.0)\n",
      "Requirement already satisfied: pycparser in c:\\applications\\anaconda\\lib\\site-packages (from cffi>=1.12->cryptography>=2.5->azure-identity) (2.21)\n",
      "Requirement already satisfied: pywin32>=226 in c:\\users\\ambar\\appdata\\roaming\\python\\python39\\site-packages (from portalocker<3,>=1.6->msal-extensions<2.0.0,>=0.3.0->azure-identity) (305)\n",
      "Requirement already satisfied: urllib3<1.27,>=1.21.1 in c:\\users\\ambar\\appdata\\roaming\\python\\python39\\site-packages (from requests>=2.18.4->azure-core<2.0.0,>=1.11.0->azure-identity) (1.26.16)\n",
      "Requirement already satisfied: charset-normalizer<3,>=2 in c:\\applications\\anaconda\\lib\\site-packages (from requests>=2.18.4->azure-core<2.0.0,>=1.11.0->azure-identity) (2.0.4)\n",
      "Requirement already satisfied: certifi>=2017.4.17 in c:\\users\\ambar\\appdata\\roaming\\python\\python39\\site-packages (from requests>=2.18.4->azure-core<2.0.0,>=1.11.0->azure-identity) (2022.12.7)\n",
      "Requirement already satisfied: idna<4,>=2.5 in c:\\applications\\anaconda\\lib\\site-packages (from requests>=2.18.4->azure-core<2.0.0,>=1.11.0->azure-identity) (3.3)\n",
      "Note: you may need to restart the kernel to use updated packages.\n"
     ]
    }
   ],
   "source": [
    "pip install azure-identity"
   ]
  },
  {
   "cell_type": "code",
   "execution_count": 6,
   "metadata": {},
   "outputs": [
    {
     "name": "stdout",
     "output_type": "stream",
     "text": [
      "Defaulting to user installation because normal site-packages is not writeable\n",
      "Collecting azure-keyvault-secrets==4.2.0\n",
      "  Downloading azure_keyvault_secrets-4.2.0-py2.py3-none-any.whl (206 kB)\n",
      "     ------------------------------------ 206.7/206.7 kB 138.1 kB/s eta 0:00:00\n",
      "Requirement already satisfied: msrest>=0.6.0 in c:\\users\\ambar\\appdata\\roaming\\python\\python39\\site-packages (from azure-keyvault-secrets==4.2.0) (0.7.1)\n",
      "Requirement already satisfied: azure-core<2.0.0,>=1.7.0 in c:\\users\\ambar\\appdata\\roaming\\python\\python39\\site-packages (from azure-keyvault-secrets==4.2.0) (1.26.1)\n",
      "Requirement already satisfied: azure-common~=1.1 in c:\\users\\ambar\\appdata\\roaming\\python\\python39\\site-packages (from azure-keyvault-secrets==4.2.0) (1.1.28)\n",
      "Requirement already satisfied: six>=1.11.0 in c:\\users\\ambar\\appdata\\roaming\\python\\python39\\site-packages (from azure-core<2.0.0,>=1.7.0->azure-keyvault-secrets==4.2.0) (1.16.0)\n",
      "Requirement already satisfied: requests>=2.18.4 in c:\\applications\\anaconda\\lib\\site-packages (from azure-core<2.0.0,>=1.7.0->azure-keyvault-secrets==4.2.0) (2.28.1)\n",
      "Requirement already satisfied: typing-extensions>=4.0.1 in c:\\applications\\anaconda\\lib\\site-packages (from azure-core<2.0.0,>=1.7.0->azure-keyvault-secrets==4.2.0) (4.3.0)\n",
      "Requirement already satisfied: certifi>=2017.4.17 in c:\\users\\ambar\\appdata\\roaming\\python\\python39\\site-packages (from msrest>=0.6.0->azure-keyvault-secrets==4.2.0) (2022.12.7)\n",
      "Requirement already satisfied: requests-oauthlib>=0.5.0 in c:\\users\\ambar\\appdata\\roaming\\python\\python39\\site-packages (from msrest>=0.6.0->azure-keyvault-secrets==4.2.0) (1.3.1)\n",
      "Requirement already satisfied: isodate>=0.6.0 in c:\\users\\ambar\\appdata\\roaming\\python\\python39\\site-packages (from msrest>=0.6.0->azure-keyvault-secrets==4.2.0) (0.6.1)\n",
      "Requirement already satisfied: urllib3<1.27,>=1.21.1 in c:\\users\\ambar\\appdata\\roaming\\python\\python39\\site-packages (from requests>=2.18.4->azure-core<2.0.0,>=1.7.0->azure-keyvault-secrets==4.2.0) (1.26.16)\n",
      "Requirement already satisfied: charset-normalizer<3,>=2 in c:\\applications\\anaconda\\lib\\site-packages (from requests>=2.18.4->azure-core<2.0.0,>=1.7.0->azure-keyvault-secrets==4.2.0) (2.0.4)\n",
      "Requirement already satisfied: idna<4,>=2.5 in c:\\applications\\anaconda\\lib\\site-packages (from requests>=2.18.4->azure-core<2.0.0,>=1.7.0->azure-keyvault-secrets==4.2.0) (3.3)\n",
      "Requirement already satisfied: oauthlib>=3.0.0 in c:\\users\\ambar\\appdata\\roaming\\python\\python39\\site-packages (from requests-oauthlib>=0.5.0->msrest>=0.6.0->azure-keyvault-secrets==4.2.0) (3.2.2)\n",
      "Installing collected packages: azure-keyvault-secrets\n",
      "Successfully installed azure-keyvault-secrets-4.2.0\n",
      "Note: you may need to restart the kernel to use updated packages.\n"
     ]
    }
   ],
   "source": [
    "pip install azure-keyvault-secrets==4.2.0"
   ]
  },
  {
   "cell_type": "code",
   "execution_count": null,
   "metadata": {},
   "outputs": [],
   "source": []
  }
 ],
 "metadata": {
  "kernelspec": {
   "display_name": "base",
   "language": "python",
   "name": "python3"
  },
  "language_info": {
   "codemirror_mode": {
    "name": "ipython",
    "version": 3
   },
   "file_extension": ".py",
   "mimetype": "text/x-python",
   "name": "python",
   "nbconvert_exporter": "python",
   "pygments_lexer": "ipython3",
   "version": "3.9.13"
  },
  "orig_nbformat": 4
 },
 "nbformat": 4,
 "nbformat_minor": 2
}
